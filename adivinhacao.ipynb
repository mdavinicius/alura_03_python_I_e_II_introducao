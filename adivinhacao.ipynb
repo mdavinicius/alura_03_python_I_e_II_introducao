{
  "nbformat": 4,
  "nbformat_minor": 0,
  "metadata": {
    "colab": {
      "name": "adivinhacao.ipynb",
      "provenance": [],
      "collapsed_sections": [],
      "authorship_tag": "ABX9TyNatC4BjqDtGoxgNgWjZGxW",
      "include_colab_link": true
    },
    "kernelspec": {
      "name": "python3",
      "display_name": "Python 3"
    },
    "language_info": {
      "name": "python"
    }
  },
  "cells": [
    {
      "cell_type": "markdown",
      "metadata": {
        "id": "view-in-github",
        "colab_type": "text"
      },
      "source": [
        "<a href=\"https://colab.research.google.com/github/mdavinicius/alura_03_python_I_e_II_introducao/blob/main/adivinhacao.ipynb\" target=\"_parent\"><img src=\"https://colab.research.google.com/assets/colab-badge.svg\" alt=\"Open In Colab\"/></a>"
      ]
    },
    {
      "cell_type": "markdown",
      "metadata": {
        "id": "8LJWx4czd2lf"
      },
      "source": [
        "# Jogo da Adivinhação\n",
        "\n",
        "Vamos começar pelo básico:\n",
        "- o número secreto será um número fixo\n",
        "- um *input* de *int* para o usuário inserir seu chute\n",
        "- e um *if* para testar se ele adivinhou ou não qual é o nosso número secreto"
      ]
    },
    {
      "cell_type": "code",
      "metadata": {
        "colab": {
          "base_uri": "https://localhost:8080/"
        },
        "id": "9J8J3LAmc3mu",
        "outputId": "ab3a0e22-f4a5-4082-e157-656c85ca5643"
      },
      "source": [
        "print(\"*********************************\")\n",
        "print(\"Bem vindo ao jogo de Adivinhação!\")\n",
        "print(\"*********************************\")\n",
        "\n",
        "numero_secreto = 10\n",
        "chute = int(input(\"Adivinhe o numero: \"))\n",
        "\n",
        "if chute == numero_secreto:\n",
        "    print(\"Você acertou!\")\n",
        "else:\n",
        "    print(\"Você errou!\")"
      ],
      "execution_count": 1,
      "outputs": [
        {
          "output_type": "stream",
          "text": [
            "*********************************\n",
            "Bem vindo ao jogo de Adivinhação!\n",
            "*********************************\n",
            "Adivinhe o numero: 4\n",
            "Você errou!\n"
          ],
          "name": "stdout"
        }
      ]
    },
    {
      "cell_type": "markdown",
      "metadata": {
        "id": "6xMgqh7NfcUg"
      },
      "source": [
        "Agora vamos deixar o numer_secreto automático, transformando-o em um número  aleatório entre 1 e 100.\n",
        "\n",
        "Para isso, vamos importar a biblioteca *random* e usar o *randrange(1,101)* - começa do número 1 e vai até o 100, pois o último número mencionado é exclusivo.\n",
        "\n",
        "Obs: Para efeitos didáticos, a partir de agora vou sempre printar o número secreto ao longo do código. Assim podemos saber qual é, e testar os erros e acertos."
      ]
    },
    {
      "cell_type": "code",
      "metadata": {
        "colab": {
          "base_uri": "https://localhost:8080/"
        },
        "id": "z5bigMkOeRZV",
        "outputId": "f47aedda-aa2c-484e-b6a8-2b48df68c2d6"
      },
      "source": [
        "import random\n",
        "\n",
        "numero_secreto = random.randrange(1, 101)\n",
        "print(numero_secreto)"
      ],
      "execution_count": 2,
      "outputs": [
        {
          "output_type": "stream",
          "text": [
            "1\n"
          ],
          "name": "stdout"
        }
      ]
    },
    {
      "cell_type": "markdown",
      "metadata": {
        "id": "CdmCuc4cgbl8"
      },
      "source": [
        "O próximo passo é adicionar níveis de dificuldade ao jogo. Conforme maior a dificuldade, menos tentativas o usuário terá para adivinhar o número secreto.\n",
        "- 1. Fácil: 20\n",
        "- 2. Médio: 10\n",
        "- 3. Fácil: 5\n",
        "\n",
        "Tabém precisamos adicionar um loop, para que o jogo termine quando o usuário esgotar suas tentativas ou quando ele acertar o *numero_secreto*. Da para ser feito tanto com *for* como com *while*. Vamos ver as diferenças:"
      ]
    },
    {
      "cell_type": "markdown",
      "metadata": {
        "id": "b0r3bMSii39o"
      },
      "source": [
        "## While\n",
        "\n",
        "- Iremos testar o nível Médio\n",
        "- O jogo deve terminar após 10 tentativas"
      ]
    },
    {
      "cell_type": "code",
      "metadata": {
        "colab": {
          "base_uri": "https://localhost:8080/"
        },
        "id": "giRE_2yNgt2W",
        "outputId": "bbb69c8f-f0ca-4fd1-dbe8-117dc242a748"
      },
      "source": [
        "total_de_tentativas = 0\n",
        "rodada = 1\n",
        "\n",
        "print(\"Qual nível de dificuldade?\")\n",
        "print(\"(1) Fácil (2) Médio (3) Difícil\")\n",
        "nivel = int(input(\"Nível: \"))\n",
        "if (nivel == 1):\n",
        "  total_de_tentativas = 20\n",
        "elif (nivel == 2):\n",
        "  total_de_tentativas = 10\n",
        "else:\n",
        "  total_de_tentativas = 5\n",
        "\n",
        "while rodada <= total_de_tentativas:\n",
        "  print(f'Tentativa {rodada} de {total_de_tentativas}')\n",
        "  chute = int(input(\"Adivinhe o numero: \"))\n",
        "  if chute == numero_secreto:\n",
        "      print(\"Você acertou!\")\n",
        "      break\n",
        "  else:\n",
        "      print(\"Você errou!\")\n",
        "      rodada += 1"
      ],
      "execution_count": 4,
      "outputs": [
        {
          "output_type": "stream",
          "text": [
            "Qual nível de dificuldade?\n",
            "(1) Fácil (2) Médio (3) Difícil\n",
            "Nível: 2\n",
            "Tentativa 1 de 10\n",
            "Adivinhe o numero: 40\n",
            "Você errou!\n",
            "Tentativa 2 de 10\n",
            "Adivinhe o numero: 50\n",
            "Você errou!\n",
            "Tentativa 3 de 10\n",
            "Adivinhe o numero: 60\n",
            "Você errou!\n",
            "Tentativa 4 de 10\n",
            "Adivinhe o numero: 13\n",
            "Você errou!\n",
            "Tentativa 5 de 10\n",
            "Adivinhe o numero: 47\n",
            "Você errou!\n",
            "Tentativa 6 de 10\n",
            "Adivinhe o numero: 59\n",
            "Você errou!\n",
            "Tentativa 7 de 10\n",
            "Adivinhe o numero: 48\n",
            "Você errou!\n",
            "Tentativa 8 de 10\n",
            "Adivinhe o numero: 98\n",
            "Você errou!\n",
            "Tentativa 9 de 10\n",
            "Adivinhe o numero: 77\n",
            "Você errou!\n",
            "Tentativa 10 de 10\n",
            "Adivinhe o numero: 94\n",
            "Você errou!\n"
          ],
          "name": "stdout"
        }
      ]
    },
    {
      "cell_type": "markdown",
      "metadata": {
        "id": "zdgUy_pqi6FJ"
      },
      "source": [
        "## For\n",
        "\n",
        "- Iremos usar o nível Difícil\n",
        "- O jogo deve terminar após 5 tentativas"
      ]
    },
    {
      "cell_type": "code",
      "metadata": {
        "colab": {
          "base_uri": "https://localhost:8080/"
        },
        "id": "HXC_MS97i7MR",
        "outputId": "76f6890a-1134-4c86-a17c-1b3715c05d6c"
      },
      "source": [
        "total_de_tentativas = 0\n",
        "rodada = 1\n",
        "\n",
        "print(\"Qual nível de dificuldade?\")\n",
        "print(\"(1) Fácil (2) Médio (3) Difícil\")\n",
        "nivel = int(input(\"Nível: \"))\n",
        "if (nivel == 1):\n",
        "  total_de_tentativas = 20\n",
        "elif (nivel == 2):\n",
        "  total_de_tentativas = 10\n",
        "else:\n",
        "  total_de_tentativas = 5\n",
        "\n",
        "for rodada in range(1, total_de_tentativas +1):\n",
        "  print(f'Tentativa {rodada} de {total_de_tentativas}')\n",
        "  chute = int(input(\"Adivinhe o numero: \"))\n",
        "  if chute == numero_secreto:\n",
        "      print(\"Você acertou!\")\n",
        "      break\n",
        "  else:\n",
        "      print(\"Você errou!\")\n",
        "      rodada += 1"
      ],
      "execution_count": 6,
      "outputs": [
        {
          "output_type": "stream",
          "text": [
            "Qual nível de dificuldade?\n",
            "(1) Fácil (2) Médio (3) Difícil\n",
            "Nível: 3\n",
            "Tentativa 1 de 5\n",
            "Adivinhe o numero: 13\n",
            "Você errou!\n",
            "Tentativa 2 de 5\n",
            "Adivinhe o numero: 40\n",
            "Você errou!\n",
            "Tentativa 3 de 5\n",
            "Adivinhe o numero: 77\n",
            "Você errou!\n",
            "Tentativa 4 de 5\n",
            "Adivinhe o numero: 56\n",
            "Você errou!\n",
            "Tentativa 5 de 5\n",
            "Adivinhe o numero: 99\n",
            "Você errou!\n"
          ],
          "name": "stdout"
        }
      ]
    },
    {
      "cell_type": "markdown",
      "metadata": {
        "id": "CSUpCANNsXgV"
      },
      "source": [
        "Do meu ponto de vista, o *While* é mais simples de utilizar do que o *For*.\n",
        "\n",
        "A partir desse ponto, vou usar sempre a versão *While* para continuar o desenvolvimento. Aproveito para compilar uma versão completa do código até o momento.\n",
        "\n",
        "E seguindo, a próxima etapa é adicionar um 'corta erros', para evitar que as pessoas preencham o *chute* em branco ou com alguma letra.\n",
        "Para isso vou dar um passo para trás para dar depois para frente:\n",
        "- vamos começar com o *nivel*, usando a condição *while True com um if*, ou seja, enquanto o usário não colocar um dos 3 valores (1, 2 ou 3), vai ficar no loop\n",
        "- o *chute* será uma *str* vazia\n",
        "- com isso, o jogo ficará em loop até o usuário chutar um número, evitando letras e espaço em branco\n",
        "- também vamos usar o *strip()* para remover qualquer espaço no meio do chute\n",
        "- após inserir um número, como estará como *str*, vamos converter para *int*\n",
        "- se o jogador digitar um número maior que 100, ele será advertido e perderá uma jogada"
      ]
    },
    {
      "cell_type": "code",
      "metadata": {
        "id": "USJGlvzvsYda",
        "outputId": "faea9dc5-e5fb-4529-8fba-60ed33ef73d2",
        "colab": {
          "base_uri": "https://localhost:8080/"
        }
      },
      "source": [
        "import random\n",
        "\n",
        "print(\"*********************************\")\n",
        "print(\"Bem vindo ao jogo de Adivinhação!\")\n",
        "print(\"*********************************\")\n",
        "\n",
        "numero_secreto = random.randrange(1, 101)\n",
        "print(numero_secreto)\n",
        "chute = ''\n",
        "total_de_tentativas = 0\n",
        "rodada = 1\n",
        "\n",
        "print(\"Qual nível de dificuldade?\")\n",
        "print(\"(1) Fácil (2) Médio (3) Difícil\")\n",
        "while True:\n",
        "  nivel = input(\"Nível: \").strip()\n",
        "  if nivel == '1' or nivel == '2' or nivel == '3':\n",
        "    break\n",
        "\n",
        "nivel = int(nivel)\n",
        "\n",
        "if (nivel == 1):\n",
        "  total_de_tentativas = 20\n",
        "elif (nivel == 2):\n",
        "  total_de_tentativas = 10\n",
        "else:\n",
        "  total_de_tentativas = 5\n",
        "\n",
        "while rodada <= total_de_tentativas:\n",
        "  print(f'Tentativa {rodada} de {total_de_tentativas}')\n",
        "  while chute.isnumeric() is not True:\n",
        "    chute = input(\"Adivinhe o numero: \").strip()\n",
        "  chute = int(chute)\n",
        "\n",
        "  if (chute < 1 or chute > 100):\n",
        "    print(\"Você deve digitar um número entre 1 e 100!\")\n",
        "\n",
        "  if chute == numero_secreto:\n",
        "      print(\"Você acertou!\")\n",
        "      break\n",
        "  else:\n",
        "      print(\"Você errou!\")\n",
        "      chute = ''\n",
        "      rodada += 1"
      ],
      "execution_count": 7,
      "outputs": [
        {
          "output_type": "stream",
          "text": [
            "*********************************\n",
            "Bem vindo ao jogo de Adivinhação!\n",
            "*********************************\n",
            "86\n",
            "Qual nível de dificuldade?\n",
            "(1) Fácil (2) Médio (3) Difícil\n",
            "Nível: 3\n",
            "Tentativa 1 de 5\n",
            "Adivinhe o numero:  \n",
            "Adivinhe o numero: f\n",
            "Adivinhe o numero: ttt\n",
            "Adivinhe o numero: 590\n",
            "Você deve digitar um número entre 1 e 100!\n",
            "Você errou!\n",
            "Tentativa 2 de 5\n",
            "Adivinhe o numero: 90\n",
            "Você errou!\n",
            "Tentativa 3 de 5\n",
            "Adivinhe o numero: 33\n",
            "Você errou!\n",
            "Tentativa 4 de 5\n",
            "Adivinhe o numero: 86\n",
            "Você acertou!\n"
          ],
          "name": "stdout"
        }
      ]
    },
    {
      "cell_type": "markdown",
      "metadata": {
        "id": "LmYRiHP-saVY"
      },
      "source": [
        "Agora que conseguimos evitar os erros de digitação, vamos criar uma espécie de termômetro, para que o usuário saiba se o seu *chute* foi maior ou menor que o *numero_secreto*:"
      ]
    },
    {
      "cell_type": "code",
      "metadata": {
        "id": "s_MZJcJwsb33",
        "outputId": "1e43af0f-847a-4455-f5cf-c2962ef6478a",
        "colab": {
          "base_uri": "https://localhost:8080/"
        }
      },
      "source": [
        "import random\n",
        "\n",
        "print(\"*********************************\")\n",
        "print(\"Bem vindo ao jogo de Adivinhação!\")\n",
        "print(\"*********************************\")\n",
        "\n",
        "numero_secreto = random.randrange(1, 101)\n",
        "print(numero_secreto)\n",
        "chute = ''\n",
        "total_de_tentativas = 0\n",
        "rodada = 1\n",
        "\n",
        "print(\"Qual nível de dificuldade?\")\n",
        "print(\"(1) Fácil (2) Médio (3) Difícil\")\n",
        "while True:\n",
        "  nivel = input(\"Nível: \").strip()\n",
        "  if nivel == '1' or nivel == '2' or nivel == '3':\n",
        "    break\n",
        "\n",
        "nivel = int(nivel)\n",
        "\n",
        "if (nivel == 1):\n",
        "  total_de_tentativas = 20\n",
        "elif (nivel == 2):\n",
        "  total_de_tentativas = 10\n",
        "else:\n",
        "  total_de_tentativas = 5\n",
        "\n",
        "while rodada <= total_de_tentativas:\n",
        "  print(f'Tentativa {rodada} de {total_de_tentativas}')\n",
        "  while chute.isnumeric() is not True:\n",
        "    chute = input(\"Adivinhe o numero: \").strip()\n",
        "  chute = int(chute)\n",
        "    \n",
        "  if (chute < 1 or chute > 100):\n",
        "    print(\"Você deve digitar um número entre 1 e 100!\")\n",
        "\n",
        "  if chute == numero_secreto:\n",
        "      print(\"Você acertou!\")\n",
        "      break\n",
        "  else:\n",
        "      print(\"Você errou!\")\n",
        "      if chute < numero_secreto:\n",
        "        print(\"O seu chute foi menor que o número secreto.\")\n",
        "      else:\n",
        "        print(\"O seu chute foi maior que o número secreto.\")\n",
        "      chute = ''\n",
        "      rodada += 1"
      ],
      "execution_count": 8,
      "outputs": [
        {
          "output_type": "stream",
          "text": [
            "*********************************\n",
            "Bem vindo ao jogo de Adivinhação!\n",
            "*********************************\n",
            "21\n",
            "Qual nível de dificuldade?\n",
            "(1) Fácil (2) Médio (3) Difícil\n",
            "Nível: 3\n",
            "Tentativa 1 de 5\n",
            "Adivinhe o numero: 40\n",
            "Você errou!\n",
            "O seu chute foi maior que o número secreto.\n",
            "Tentativa 2 de 5\n",
            "Adivinhe o numero: 12\n",
            "Você errou!\n",
            "O seu chute foi menor que o número secreto.\n",
            "Tentativa 3 de 5\n",
            "Adivinhe o numero: 21\n",
            "Você acertou!\n"
          ],
          "name": "stdout"
        }
      ]
    },
    {
      "cell_type": "markdown",
      "metadata": {
        "id": "dTngCIUjsc8o"
      },
      "source": [
        "Agora vamos criar um sistema de pontuação:\n",
        "- o jogador começa com 1000 pontos\n",
        "- a cada erro, sera subtratido do total de pontos a diferença entre o chute e o numero_secreto. Ex: numero_secreto = 20, chute = 5, temos 20-5 = 15, então perderá 15 pontos."
      ]
    },
    {
      "cell_type": "code",
      "metadata": {
        "id": "lZ60wxKUsfpe",
        "outputId": "cb9102fa-3d4a-4606-dea0-19c7afd57414",
        "colab": {
          "base_uri": "https://localhost:8080/"
        }
      },
      "source": [
        "import random\n",
        "\n",
        "print(\"*********************************\")\n",
        "print(\"Bem vindo ao jogo de Adivinhação!\")\n",
        "print(\"*********************************\")\n",
        "\n",
        "numero_secreto = random.randrange(1, 101)\n",
        "print(numero_secreto)\n",
        "chute = ''\n",
        "total_de_tentativas = 0\n",
        "rodada = 1\n",
        "pontos = 1000\n",
        "\n",
        "print(\"Qual nível de dificuldade?\")\n",
        "print(\"(1) Fácil (2) Médio (3) Difícil\")\n",
        "while True:\n",
        "  nivel = input(\"Nível: \").strip()\n",
        "  if (nivel == '1' or nivel == '2' or nivel == '3'):\n",
        "    break\n",
        "\n",
        "nivel = int(nivel)\n",
        "\n",
        "if (nivel == 1):\n",
        "  total_de_tentativas = 20\n",
        "elif (nivel == 2):\n",
        "  total_de_tentativas = 10\n",
        "else:\n",
        "  total_de_tentativas = 5\n",
        "\n",
        "while (rodada <= total_de_tentativas):\n",
        "  print(f'Tentativa {rodada} de {total_de_tentativas}')\n",
        "  while (chute.isnumeric() is not True):\n",
        "    chute = input(\"Adivinhe o numero: \").strip()\n",
        "  chute = int(chute)\n",
        "\n",
        "  if (chute < 1 or chute > 100):\n",
        "    print(\"Você deve digitar um número entre 1 e 100!\")\n",
        "\n",
        "  acertou = chute == numero_secreto\n",
        "  maior = chute > numero_secreto\n",
        "  menor = chute < numero_secreto\n",
        "\n",
        "  if (acertou):\n",
        "    print(f\"Você acertou e fez {pontos} pontos!\")\n",
        "    break\n",
        "  else:\n",
        "    pontos_perdidos = abs(numero_secreto - chute)\n",
        "    pontos -= pontos_perdidos\n",
        "    \n",
        "    if (menor):\n",
        "      print(\"O seu chute foi menor que o número secreto.\")\n",
        "      if (rodada == total_de_tentativas):\n",
        "        print(f\"O número secreto era {numero_secreto}. Você fez {pontos} pontos.\")\n",
        "    elif (maior):\n",
        "      print(\"O seu chute foi maior que o número secreto.\")\n",
        "      if (rodada == total_de_tentativas):\n",
        "        print(f\"O número secreto era {numero_secreto}. Você fez {pontos} pontos.\")\n",
        "\n",
        "    chute = ''\n",
        "    rodada += 1"
      ],
      "execution_count": 9,
      "outputs": [
        {
          "output_type": "stream",
          "text": [
            "*********************************\n",
            "Bem vindo ao jogo de Adivinhação!\n",
            "*********************************\n",
            "34\n",
            "Qual nível de dificuldade?\n",
            "(1) Fácil (2) Médio (3) Difícil\n",
            "Nível: 3\n",
            "Tentativa 1 de 5\n",
            "Adivinhe o numero: 44\n",
            "O seu chute foi maior que o número secreto.\n",
            "Tentativa 2 de 5\n",
            "Adivinhe o numero: 14\n",
            "O seu chute foi menor que o número secreto.\n",
            "Tentativa 3 de 5\n",
            "Adivinhe o numero: 34\n",
            "Você acertou e fez 970 pontos!\n"
          ],
          "name": "stdout"
        }
      ]
    },
    {
      "cell_type": "markdown",
      "metadata": {
        "id": "ZUNEVK0kshUU"
      },
      "source": [
        "Agora nosso jogo está pronto!\n",
        "\n",
        "Gera um número aleatório a cada partida, possui sistema de pontuação, da dicas ao longo do jogo e você pode escolher entre 3 níveis diferentes!\n",
        "\n",
        "Para finalizar, vamos transformar em uma função e adicionar o *main* no final para que o jogo possa ser executado caso seja executado diretamente pelo seu arquivo. "
      ]
    },
    {
      "cell_type": "code",
      "metadata": {
        "id": "viJX3m-esi_q",
        "outputId": "f77b4b9d-148a-4a20-eeab-f9be85332424",
        "colab": {
          "base_uri": "https://localhost:8080/"
        }
      },
      "source": [
        "import random\n",
        "\n",
        "def jogar():\n",
        "  print(\"*********************************\")\n",
        "  print(\"Bem vindo ao jogo de Adivinhação!\")\n",
        "  print(\"*********************************\")\n",
        "\n",
        "  numero_secreto = random.randrange(1, 101)\n",
        "  chute = ''\n",
        "  total_de_tentativas = 0\n",
        "  rodada = 1\n",
        "  pontos = 1000\n",
        "\n",
        "  print(\"Qual nível de dificuldade?\")\n",
        "  print(\"(1) Fácil (2) Médio (3) Difícil\")\n",
        "  while True:\n",
        "    nivel = input(\"Nível: \").strip()\n",
        "    if (nivel == '1' or nivel == '2' or nivel == '3'):\n",
        "      break\n",
        "\n",
        "  nivel = int(nivel)\n",
        "\n",
        "  if (nivel == 1):\n",
        "    total_de_tentativas = 20\n",
        "  elif (nivel == 2):\n",
        "    total_de_tentativas = 10\n",
        "  else:\n",
        "    total_de_tentativas = 5\n",
        "\n",
        "  while (rodada <= total_de_tentativas):\n",
        "    print(f'Tentativa {rodada} de {total_de_tentativas}')\n",
        "    while (chute.isnumeric() is not True):\n",
        "      chute = input(\"Adivinhe o numero: \").strip()\n",
        "    chute = int(chute)\n",
        "\n",
        "    if (chute < 1 or chute > 100):\n",
        "      print(\"Você deve digitar um número entre 1 e 100!\")\n",
        "\n",
        "    acertou = chute == numero_secreto\n",
        "    maior = chute > numero_secreto\n",
        "    menor = chute < numero_secreto\n",
        "\n",
        "    if (acertou):\n",
        "      print(f\"Você acertou e fez {pontos} pontos!\")\n",
        "      break\n",
        "    else:\n",
        "      pontos_perdidos = abs(numero_secreto - chute)\n",
        "      pontos -= pontos_perdidos\n",
        "      \n",
        "      if (menor):\n",
        "        print(\"O seu chute foi menor que o número secreto.\")\n",
        "        if (rodada == total_de_tentativas):\n",
        "          print(f\"O número secreto era {numero_secreto}. Você fez {pontos} pontos.\")\n",
        "      elif (maior):\n",
        "        print(\"O seu chute foi maior que o número secreto.\")\n",
        "        if (rodada == total_de_tentativas):\n",
        "          print(f\"O número secreto era {numero_secreto}. Você fez {pontos} pontos.\")\n",
        "\n",
        "      chute = ''\n",
        "      rodada += 1\n",
        "\n",
        "if (__name__ == \"__main__\"):\n",
        "    jogar()"
      ],
      "execution_count": 10,
      "outputs": [
        {
          "output_type": "stream",
          "text": [
            "*********************************\n",
            "Bem vindo ao jogo de Adivinhação!\n",
            "*********************************\n",
            "Qual nível de dificuldade?\n",
            "(1) Fácil (2) Médio (3) Difícil\n",
            "Nível: 3\n",
            "Tentativa 1 de 5\n",
            "Adivinhe o numero: 50\n",
            "O seu chute foi menor que o número secreto.\n",
            "Tentativa 2 de 5\n",
            "Adivinhe o numero: 70\n",
            "O seu chute foi menor que o número secreto.\n",
            "Tentativa 3 de 5\n",
            "Adivinhe o numero: 90\n",
            "O seu chute foi maior que o número secreto.\n",
            "Tentativa 4 de 5\n",
            "Adivinhe o numero: 75\n",
            "O seu chute foi menor que o número secreto.\n",
            "Tentativa 5 de 5\n",
            "Adivinhe o numero: 78\n",
            "O seu chute foi maior que o número secreto.\n",
            "O número secreto era 77. Você fez 950 pontos.\n"
          ],
          "name": "stdout"
        }
      ]
    }
  ]
}