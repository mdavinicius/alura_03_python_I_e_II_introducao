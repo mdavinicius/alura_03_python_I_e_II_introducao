{
  "nbformat": 4,
  "nbformat_minor": 0,
  "metadata": {
    "colab": {
      "name": "adivinhacao.ipynb",
      "provenance": [],
      "collapsed_sections": [],
      "authorship_tag": "ABX9TyNftCvPh8IEYY5DU5yNNeI9",
      "include_colab_link": true
    },
    "kernelspec": {
      "name": "python3",
      "display_name": "Python 3"
    },
    "language_info": {
      "name": "python"
    }
  },
  "cells": [
    {
      "cell_type": "markdown",
      "metadata": {
        "id": "view-in-github",
        "colab_type": "text"
      },
      "source": [
        "<a href=\"https://colab.research.google.com/github/mdavinicius/alura_03_python_I_e_II_introducao/blob/main/adivinhacao.ipynb\" target=\"_parent\"><img src=\"https://colab.research.google.com/assets/colab-badge.svg\" alt=\"Open In Colab\"/></a>"
      ]
    },
    {
      "cell_type": "markdown",
      "metadata": {
        "id": "8LJWx4czd2lf"
      },
      "source": [
        "# Jogo da Adivinhação\n",
        "\n",
        "Vamos começar pelo básico:\n",
        "- o número secreto será um número fixo\n",
        "- um *input* de *int* para o usuário inserir seu chute\n",
        "- e um *if* para testar se ele adivinhou ou não qual é o nosso número secreto"
      ]
    },
    {
      "cell_type": "code",
      "metadata": {
        "colab": {
          "base_uri": "https://localhost:8080/"
        },
        "id": "9J8J3LAmc3mu",
        "outputId": "f35802f5-232c-4ba5-fd96-1a8c35d76f15"
      },
      "source": [
        "print(\"*********************************\")\n",
        "print(\"Bem vindo ao jogo de Adivinhação!\")\n",
        "print(\"*********************************\")\n",
        "\n",
        "numero_secreto = 10\n",
        "chute = int(input(\"Adivinhe o numero: \"))\n",
        "\n",
        "if chute == numero_secreto:\n",
        "    print(\"Você acertou!\")\n",
        "else:\n",
        "    print(\"Você errou!\")"
      ],
      "execution_count": 3,
      "outputs": [
        {
          "output_type": "stream",
          "text": [
            "*********************************\n",
            "Bem vindo ao jogo de Adivinhação!\n",
            "*********************************\n",
            "Adivinhe o numero: 10\n",
            "Você acertou!\n"
          ],
          "name": "stdout"
        }
      ]
    },
    {
      "cell_type": "markdown",
      "metadata": {
        "id": "6xMgqh7NfcUg"
      },
      "source": [
        "Agora vamos deixar o jogo mais automático, tornando o número secreto um número aleatório entre 1 e 100.\n",
        "\n",
        "Para isso, vamos importar a biblioteca *random* e usar o *randrange(1,101)* - começa do número 1 e vai até o 100, pois o último número mencionado é exclusivo.\n",
        "\n",
        "Obs: Para efeitos didáticos, a partir de agora vou sempre printar o número secreto ao longo do código. Assim podemos saber qual é e testar se está funcionando ou não."
      ]
    },
    {
      "cell_type": "code",
      "metadata": {
        "id": "tgArY_bdgKBr"
      },
      "source": [
        "import random"
      ],
      "execution_count": 9,
      "outputs": []
    },
    {
      "cell_type": "code",
      "metadata": {
        "colab": {
          "base_uri": "https://localhost:8080/"
        },
        "id": "z5bigMkOeRZV",
        "outputId": "6ee50798-4311-4938-ebb9-1afc0b4b1466"
      },
      "source": [
        "print(\"*********************************\")\n",
        "print(\"Bem vindo ao jogo de Adivinhação!\")\n",
        "print(\"*********************************\")\n",
        "\n",
        "numero_secreto = random.randrange(1, 101)\n",
        "print(numero_secreto)\n",
        "chute = int(input(\"Adivinhe o numero: \"))\n",
        "\n",
        "if chute == numero_secreto:\n",
        "    print(\"Você acertou!\")\n",
        "else:\n",
        "    print(\"Você errou!\")"
      ],
      "execution_count": 11,
      "outputs": [
        {
          "output_type": "stream",
          "text": [
            "*********************************\n",
            "Bem vindo ao jogo de Adivinhação!\n",
            "*********************************\n",
            "33\n",
            "Adivinhe o numero: 33\n",
            "Você acertou!\n"
          ],
          "name": "stdout"
        }
      ]
    },
    {
      "cell_type": "markdown",
      "metadata": {
        "id": "CdmCuc4cgbl8"
      },
      "source": [
        "Agora vamos adicionar níveis de dificuldade ao jogo. Conforme maior a dificuldade, menos tentativas o usuário terá para adivinhar o número secreto.\n",
        "\n",
        "Tabém precisamos adicionar um loop, para que o jogo termine quando o usuário esgotar suas tentativas, ou quando ele acertar. Da para ser feito tanto com *for* como com *while*. Vamos ver as diferenças:"
      ]
    },
    {
      "cell_type": "markdown",
      "metadata": {
        "id": "b0r3bMSii39o"
      },
      "source": [
        "## While"
      ]
    },
    {
      "cell_type": "code",
      "metadata": {
        "colab": {
          "base_uri": "https://localhost:8080/"
        },
        "id": "giRE_2yNgt2W",
        "outputId": "8da9066f-672c-4635-a733-052334b5e5c5"
      },
      "source": [
        "print(\"*********************************\")\n",
        "print(\"Bem vindo ao jogo de Adivinhação!\")\n",
        "print(\"*********************************\")\n",
        "\n",
        "numero_secreto = random.randrange(1, 101)\n",
        "print(numero_secreto)\n",
        "total_de_tentativas = 0\n",
        "rodada = 1\n",
        "\n",
        "print(\"Qual nível de dificuldade?\")\n",
        "print(\"(1) Fácil (2) Médio (3) Difícil\")\n",
        "nivel = int(input(\"Nível: \"))\n",
        "if (nivel == 1):\n",
        "  total_de_tentativas = 20\n",
        "elif (nivel == 2):\n",
        "  total_de_tentativas = 10\n",
        "else:\n",
        "  total_de_tentativas = 5\n",
        "\n",
        "while rodada <= total_de_tentativas:\n",
        "  print(f'Tentativa {rodada} de {total_de_tentativas}')\n",
        "  chute = int(input(\"Adivinhe o numero: \"))\n",
        "  if chute == numero_secreto:\n",
        "      print(\"Você acertou!\")\n",
        "      break\n",
        "  else:\n",
        "      print(\"Você errou!\")\n",
        "      rodada += 1"
      ],
      "execution_count": 14,
      "outputs": [
        {
          "output_type": "stream",
          "text": [
            "*********************************\n",
            "Bem vindo ao jogo de Adivinhação!\n",
            "*********************************\n",
            "83\n",
            "Qual nível de dificuldade?\n",
            "(1) Fácil (2) Médio (3) Difícil\n",
            "Nível: 1\n",
            "Tentativa 1 de 20\n",
            "Adivinhe o numero: 40\n",
            "Você errou!\n",
            "Tentativa 2 de 20\n",
            "Adivinhe o numero: 50\n",
            "Você errou!\n",
            "Tentativa 3 de 20\n",
            "Adivinhe o numero: 60\n",
            "Você errou!\n",
            "Tentativa 4 de 20\n",
            "Adivinhe o numero: 83\n",
            "Você acertou!\n"
          ],
          "name": "stdout"
        }
      ]
    },
    {
      "cell_type": "markdown",
      "metadata": {
        "id": "zdgUy_pqi6FJ"
      },
      "source": [
        "## For"
      ]
    },
    {
      "cell_type": "code",
      "metadata": {
        "colab": {
          "base_uri": "https://localhost:8080/"
        },
        "id": "HXC_MS97i7MR",
        "outputId": "651f52e5-7e72-4ed4-e099-e6a56aaab120"
      },
      "source": [
        "print(\"*********************************\")\n",
        "print(\"Bem vindo ao jogo de Adivinhação!\")\n",
        "print(\"*********************************\")\n",
        "\n",
        "numero_secreto = random.randrange(1, 101)\n",
        "print(numero_secreto)\n",
        "total_de_tentativas = 0\n",
        "rodada = 1\n",
        "\n",
        "print(\"Qual nível de dificuldade?\")\n",
        "print(\"(1) Fácil (2) Médio (3) Difícil\")\n",
        "nivel = int(input(\"Nível: \"))\n",
        "if (nivel == 1):\n",
        "  total_de_tentativas = 20\n",
        "elif (nivel == 2):\n",
        "  total_de_tentativas = 10\n",
        "else:\n",
        "  total_de_tentativas = 5\n",
        "\n",
        "for rodada in range(1, total_de_tentativas):\n",
        "  print(f'Tentativa {rodada} de {total_de_tentativas}')\n",
        "  chute = int(input(\"Adivinhe o numero: \"))\n",
        "  if chute == numero_secreto:\n",
        "      print(\"Você acertou!\")\n",
        "      break\n",
        "  else:\n",
        "      print(\"Você errou!\")\n",
        "      rodada += 1"
      ],
      "execution_count": 15,
      "outputs": [
        {
          "output_type": "stream",
          "text": [
            "*********************************\n",
            "Bem vindo ao jogo de Adivinhação!\n",
            "*********************************\n",
            "14\n",
            "Qual nível de dificuldade?\n",
            "(1) Fácil (2) Médio (3) Difícil\n",
            "Nível: 3\n",
            "Tentativa 1 de 5\n",
            "Adivinhe o numero: 2\n",
            "Você errou!\n",
            "Tentativa 2 de 5\n",
            "Adivinhe o numero: 4\n",
            "Você errou!\n",
            "Tentativa 3 de 5\n",
            "Adivinhe o numero: 5\n",
            "Você errou!\n",
            "Tentativa 4 de 5\n",
            "Adivinhe o numero: 6\n",
            "Você errou!\n"
          ],
          "name": "stdout"
        }
      ]
    }
  ]
}